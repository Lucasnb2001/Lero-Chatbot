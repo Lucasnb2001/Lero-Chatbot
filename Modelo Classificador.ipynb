{
  "nbformat": 4,
  "nbformat_minor": 0,
  "metadata": {
    "colab": {
      "provenance": []
    },
    "kernelspec": {
      "name": "python3",
      "display_name": "Python 3"
    },
    "language_info": {
      "name": "python"
    }
  },
  "cells": [
    {
      "cell_type": "markdown",
      "source": [
        "# Importando Bibliotecas"
      ],
      "metadata": {
        "id": "rxv9iSyI-Kg3"
      }
    },
    {
      "cell_type": "code",
      "source": [
        "!pip install datasets transformers==4.28.0"
      ],
      "metadata": {
        "id": "IBDJOoLe97Zm"
      },
      "execution_count": null,
      "outputs": []
    },
    {
      "cell_type": "markdown",
      "source": [
        "Baseado no [artigo](https://medium.com/analytics-vidhya/text-classification-from-bag-of-words-to-bert-1e628a2dd4c9) de Anirban Sen"
      ],
      "metadata": {
        "id": "-jBegDm2o-Vu"
      }
    },
    {
      "cell_type": "markdown",
      "source": [
        "Dataset: [JTCC_Bag_Of_Words ](https://www.kaggle.com/code/anirbansen3027/jtcc-bag-of-words/notebook)"
      ],
      "metadata": {
        "id": "IJ-QL7J-RTXw"
      }
    },
    {
      "cell_type": "code",
      "source": [
        "import numpy as np # linear algebra\n",
        "import pandas as pd # data processing, CSV file I/O (e.g. pd.read_csv)\n",
        "\n",
        "from statistics import mean\n",
        "\n",
        "import string\n",
        "\n",
        "#Sklearn Libraries\n",
        "from sklearn.model_selection import train_test_split\n",
        "from sklearn.feature_extraction import _stop_words\n",
        "from sklearn.feature_extraction.text import CountVectorizer\n",
        "from sklearn.multioutput import MultiOutputClassifier\n",
        "from sklearn.naive_bayes import MultinomialNB\n",
        "from sklearn.linear_model import LogisticRegression\n",
        "from sklearn.metrics import roc_auc_score, accuracy_score, precision_score, confusion_matrix\n",
        "\n",
        "#Plotting Libraries\n",
        "import matplotlib.pyplot as plt\n",
        "import seaborn as sns\n",
        "\n",
        "#Pyrhotch Libraries\n",
        "import torch\n",
        "import torch.nn as nn\n",
        "import torch.optim as optim\n",
        "from torch.utils.data import DataLoader\n",
        "\n",
        "#To set precision to 3 decimals\n",
        "pd.options.display.float_format = \"{:,.2f}\".format"
      ],
      "metadata": {
        "id": "gFcH0jUlVUFj"
      },
      "execution_count": null,
      "outputs": []
    },
    {
      "cell_type": "code",
      "source": [
        "from sklearn.preprocessing import OneHotEncoder\n",
        "from seaborn import load_dataset"
      ],
      "metadata": {
        "id": "xKBPum8de9OZ"
      },
      "execution_count": null,
      "outputs": []
    },
    {
      "cell_type": "markdown",
      "source": [
        "# Explorando base de dados"
      ],
      "metadata": {
        "id": "_6mqmcqz-jQV"
      }
    },
    {
      "cell_type": "markdown",
      "source": [
        "O [conjunto de dados](https://huggingface.co/nickmuchi/finbert-tone-finetuned-finance-topic-classification/blob/main/pytorch_model.bin) de notícias financeiras do Twitter é um conjunto de dados em inglês que contém um corpus anotado de tweets relacionados a finanças. Cada registro da base contém o texto do twitte e seu respectivo rótulo."
      ],
      "metadata": {
        "id": "Qpy0gabc4s0E"
      }
    },
    {
      "cell_type": "code",
      "source": [
        "#Usando a biblioteca do Huugging Face\n",
        "from datasets import load_dataset\n",
        "\n",
        "dataset = load_dataset(\"zeroshot/twitter-financial-news-topic\")"
      ],
      "metadata": {
        "id": "4OBFdyj3-qKD"
      },
      "execution_count": null,
      "outputs": []
    },
    {
      "cell_type": "markdown",
      "source": [
        "Visualização da estrutura e de um exemplo de texto do dataset"
      ],
      "metadata": {
        "id": "A52piV77DcVM"
      }
    },
    {
      "cell_type": "code",
      "source": [
        "dataset"
      ],
      "metadata": {
        "colab": {
          "base_uri": "https://localhost:8080/"
        },
        "id": "UHISNdPI2og7",
        "outputId": "8c015562-e78f-4d62-bfa3-784ca4902893"
      },
      "execution_count": null,
      "outputs": [
        {
          "output_type": "execute_result",
          "data": {
            "text/plain": [
              "DatasetDict({\n",
              "    train: Dataset({\n",
              "        features: ['text', 'label'],\n",
              "        num_rows: 16990\n",
              "    })\n",
              "    validation: Dataset({\n",
              "        features: ['text', 'label'],\n",
              "        num_rows: 4117\n",
              "    })\n",
              "})"
            ]
          },
          "metadata": {},
          "execution_count": 8
        }
      ]
    },
    {
      "cell_type": "code",
      "source": [
        "dataset[\"train\"][100]['text']"
      ],
      "metadata": {
        "colab": {
          "base_uri": "https://localhost:8080/",
          "height": 36
        },
        "id": "ME9DCpOo6pBc",
        "outputId": "85f8044d-6376-497c-e0cf-408ab40b107f"
      },
      "execution_count": null,
      "outputs": [
        {
          "output_type": "execute_result",
          "data": {
            "text/plain": [
              "'$ALLY - Ally Financial downgraded to In Line as delinquency rates rise  https://t.co/oWHXbO69wx'"
            ],
            "application/vnd.google.colaboratory.intrinsic+json": {
              "type": "string"
            }
          },
          "metadata": {},
          "execution_count": 9
        }
      ]
    },
    {
      "cell_type": "code",
      "source": [
        "dataset[\"train\"][100]['label']"
      ],
      "metadata": {
        "colab": {
          "base_uri": "https://localhost:8080/"
        },
        "id": "UvjGMRtq_UQc",
        "outputId": "86a0f212-34a7-4b4d-eecb-81cb223d3bc6"
      },
      "execution_count": null,
      "outputs": [
        {
          "output_type": "execute_result",
          "data": {
            "text/plain": [
              "0"
            ]
          },
          "metadata": {},
          "execution_count": 10
        }
      ]
    },
    {
      "cell_type": "markdown",
      "source": [
        "O dataset possui 20 labels, são elas:"
      ],
      "metadata": {
        "id": "37o2YIo4EYmp"
      }
    },
    {
      "cell_type": "code",
      "source": [
        "topics = {\n",
        "    \"LABEL_0\": \"Analyst Update\",\n",
        "    \"LABEL_1\": \"Fed | Central Banks\",\n",
        "    \"LABEL_2\": \"Company | Product News\",\n",
        "    \"LABEL_3\": \"Treasuries | Corporate Debt\",\n",
        "    \"LABEL_4\": \"Dividend\",\n",
        "    \"LABEL_5\": \"Earnings\",\n",
        "    \"LABEL_6\": \"Energy | Oil\",\n",
        "    \"LABEL_7\": \"Financials\",\n",
        "    \"LABEL_8\": \"Currencies\",\n",
        "    \"LABEL_9\": \"General News | Opinion\",\n",
        "    \"LABEL_10\": \"Gold | Metals | Materials\",\n",
        "    \"LABEL_11\": \"IPO\",\n",
        "    \"LABEL_12\": \"Legal | Regulation\",\n",
        "    \"LABEL_13\": \"M&A | Investments\",\n",
        "    \"LABEL_14\": \"Macro\",\n",
        "    \"LABEL_15\": \"Markets\",\n",
        "    \"LABEL_16\": \"Politics\",\n",
        "    \"LABEL_17\": \"Personnel Change\",\n",
        "    \"LABEL_18\": \"Stock Commentary\",\n",
        "    \"LABEL_19\": \"Stock Movement\",\n",
        "}\n"
      ],
      "metadata": {
        "id": "QwvdzBkCEcRE"
      },
      "execution_count": null,
      "outputs": []
    },
    {
      "cell_type": "markdown",
      "source": [
        "## Distribuição das classes (%) no dataset de treino"
      ],
      "metadata": {
        "id": "_2pUZrmDUmFh"
      }
    },
    {
      "cell_type": "code",
      "source": [
        "total = len(dataset[\"train\"]['label'])\n",
        "\n",
        "#Número de registro para cada classe\n",
        "analystUpdateLen = len([x for x in dataset[\"train\"]['label'] if x == 0])\n",
        "fedCentralBanksLen = len([x for x in dataset[\"train\"]['label'] if x == 1])\n",
        "companyProductNewsLen = len([x for x in dataset[\"train\"]['label'] if x == 2])\n",
        "treasuriesCorporateDebtLen = len([x for x in dataset[\"train\"]['label'] if x == 3])\n",
        "dividendLen = len([x for x in dataset[\"train\"]['label'] if x == 4])\n",
        "earningsLen = len([x for x in dataset[\"train\"]['label'] if x == 5])\n",
        "energyOilLen = len([x for x in dataset[\"train\"]['label'] if x == 6])\n",
        "financialsLen = len([x for x in dataset[\"train\"]['label'] if x == 7])\n",
        "currenciesLen = len([x for x in dataset[\"train\"]['label'] if x == 8])\n",
        "generalNewsOpinionLen = len([x for x in dataset[\"train\"]['label'] if x == 9])\n",
        "goldMetalsMaterialsLen = len([x for x in dataset[\"train\"]['label'] if x == 10])\n",
        "ipoLen = len([x for x in dataset[\"train\"]['label'] if x == 11])\n",
        "legalRegulationLen = len([x for x in dataset[\"train\"]['label'] if x == 12])\n",
        "maInvestmentsLen = len([x for x in dataset[\"train\"]['label'] if x == 13])\n",
        "macroLen = len([x for x in dataset[\"train\"]['label'] if x == 14])\n",
        "marketsLen = len([x for x in dataset[\"train\"]['label'] if x == 15])\n",
        "politicsLen = len([x for x in dataset[\"train\"]['label'] if x == 16])\n",
        "personnelChangeLen = len([x for x in dataset[\"train\"]['label'] if x == 17])\n",
        "stockCommentaryLen = len([x for x in dataset[\"train\"]['label'] if x == 18])\n",
        "stockMovementLen = len([x for x in dataset[\"train\"]['label'] if x == 19])\n",
        "\n",
        "\n",
        "import matplotlib.pyplot as plt\n",
        "\n",
        "classes = ['Analyst Update', 'Fed | Central Banks', 'Company | Product News', 'Treasuries | Corporate Debt', 'Dividend', 'Earnings', 'Energy | Oil', 'Financials', 'Currencies', 'General News | Opinion', 'Gold | Metals | Materials', 'IPO', 'Legal | Regulation', 'M&A | Investments', 'Macro', 'Markets', 'Politics', 'Personnel Change', 'Stock Commentary', 'Stock Movement']\n",
        "\n",
        "#porcentagens\n",
        "contagens = [analystUpdateLen*100/total, fedCentralBanksLen*100/total, companyProductNewsLen*100/total, treasuriesCorporateDebtLen*100/total,\n",
        " dividendLen*100/total, earningsLen*100/total, energyOilLen*100/total, financialsLen*100/total, currenciesLen*100/total, generalNewsOpinionLen*100/total,\n",
        " goldMetalsMaterialsLen*100/total, ipoLen*100/total, legalRegulationLen*100/total, maInvestmentsLen*100/total, macroLen*100/total, marketsLen*100/total,\n",
        " politicsLen*100/total, personnelChangeLen*100/total, stockCommentaryLen*100/total, stockMovementLen*100/total]\n",
        "\n",
        "\n",
        "\n",
        "\n",
        "# Cria um gráfico de barras\n",
        "#sns.set_theme(style=\"whitegrid\")\n",
        "plt.figure(figsize=(20, 7))  # Define o tamanho do gráfico\n",
        "plt.bar(classes, contagens, color=['skyblue', 'lightblue', 'grey', 'cadetblue'])  # Cria o gráfico de barras com as classes e contagens\n",
        "plt.xlabel('Classes')  # Rótulo do eixo X\n",
        "plt.ylabel('Porcentagem')  # Rótulo do eixo Y\n",
        "plt.title('Distribuição das Classes no Dataset Original [treino] ' + str(len(dataset[\"train\"]['label'])) + ' amostras')  # Título do gráfico\n",
        "\n",
        "# Mostra o gráfico\n",
        "plt.xticks(rotation=45)  # Rotação dos rótulos das classes para melhor visualização\n",
        "plt.tight_layout()  # Garante que os rótulos e barras não fiquem cortados\n",
        "plt.show()\n",
        "\n"
      ],
      "metadata": {
        "colab": {
          "base_uri": "https://localhost:8080/",
          "height": 507
        },
        "id": "-uzyGrkzKENh",
        "outputId": "c60970e1-2c9a-41ce-a992-d76135e49aa3"
      },
      "execution_count": null,
      "outputs": [
        {
          "output_type": "display_data",
          "data": {
            "text/plain": [
              "<Figure size 2000x700 with 1 Axes>"
            ],
            "image/png": "[encoded data removed]"
          },
          "metadata": {}
        }
      ]
    },
    {
      "cell_type": "markdown",
      "source": [
        "## Distribuição das classes (%) no dataset de teste"
      ],
      "metadata": {
        "id": "sAB6CyDxUxyX"
      }
    },
    {
      "cell_type": "code",
      "source": [
        "total = len(dataset[\"validation\"]['label'])\n",
        "\n",
        "#Número de registro para cada classe\n",
        "analystUpdateLen = len([x for x in dataset[\"validation\"]['label'] if x == 0])\n",
        "fedCentralBanksLen = len([x for x in dataset[\"validation\"]['label'] if x == 1])\n",
        "companyProductNewsLen = len([x for x in dataset[\"validation\"]['label'] if x == 2])\n",
        "treasuriesCorporateDebtLen = len([x for x in dataset[\"validation\"]['label'] if x == 3])\n",
        "dividendLen = len([x for x in dataset[\"validation\"]['label'] if x == 4])\n",
        "earningsLen = len([x for x in dataset[\"validation\"]['label'] if x == 5])\n",
        "energyOilLen = len([x for x in dataset[\"validation\"]['label'] if x == 6])\n",
        "financialsLen = len([x for x in dataset[\"validation\"]['label'] if x == 7])\n",
        "currenciesLen = len([x for x in dataset[\"validation\"]['label'] if x == 8])\n",
        "generalNewsOpinionLen = len([x for x in dataset[\"validation\"]['label'] if x == 9])\n",
        "goldMetalsMaterialsLen = len([x for x in dataset[\"validation\"]['label'] if x == 10])\n",
        "ipoLen = len([x for x in dataset[\"validation\"]['label'] if x == 11])\n",
        "legalRegulationLen = len([x for x in dataset[\"validation\"]['label'] if x == 12])\n",
        "maInvestmentsLen = len([x for x in dataset[\"validation\"]['label'] if x == 13])\n",
        "macroLen = len([x for x in dataset[\"validation\"]['label'] if x == 14])\n",
        "marketsLen = len([x for x in dataset[\"validation\"]['label'] if x == 15])\n",
        "politicsLen = len([x for x in dataset[\"validation\"]['label'] if x == 16])\n",
        "personnelChangeLen = len([x for x in dataset[\"validation\"]['label'] if x == 17])\n",
        "stockCommentaryLen = len([x for x in dataset[\"validation\"]['label'] if x == 18])\n",
        "stockMovementLen = len([x for x in dataset[\"validation\"]['label'] if x == 19])\n",
        "\n",
        "\n",
        "import matplotlib.pyplot as plt\n",
        "\n",
        "classes = ['Analyst Update', 'Fed | Central Banks', 'Company | Product News', 'Treasuries | Corporate Debt', 'Dividend', 'Earnings', 'Energy | Oil', 'Financials', 'Currencies', 'General News | Opinion', 'Gold | Metals | Materials', 'IPO', 'Legal | Regulation', 'M&A | Investments', 'Macro', 'Markets', 'Politics', 'Personnel Change', 'Stock Commentary', 'Stock Movement']\n",
        "\n",
        "#porcentagens\n",
        "contagens = [analystUpdateLen*100/total, fedCentralBanksLen*100/total, companyProductNewsLen*100/total, treasuriesCorporateDebtLen*100/total,\n",
        " dividendLen*100/total, earningsLen*100/total, energyOilLen*100/total, financialsLen*100/total, currenciesLen*100/total, generalNewsOpinionLen*100/total,\n",
        " goldMetalsMaterialsLen*100/total, ipoLen*100/total, legalRegulationLen*100/total, maInvestmentsLen*100/total, macroLen*100/total, marketsLen*100/total,\n",
        " politicsLen*100/total, personnelChangeLen*100/total, stockCommentaryLen*100/total, stockMovementLen*100/total]\n",
        "\n",
        "\n",
        "\n",
        "# Cria um gráfico de barras\n",
        "#sns.set_theme(style=\"whitegrid\")\n",
        "plt.figure(figsize=(20, 7))  # Define o tamanho do gráfico\n",
        "plt.bar(classes, contagens, color=['skyblue', 'lightblue', 'grey', 'cadetblue'])  # Cria o gráfico de barras com as classes e contagens\n",
        "plt.xlabel('Classes')  # Rótulo do eixo X\n",
        "plt.ylabel('Porcentagem')  # Rótulo do eixo Y\n",
        "plt.title('Distribuição das Classes no Dataset Original [validação] ' + str(total) + ' amostras')  # Título do gráfico\n",
        "\n",
        "# Mostra o gráfico\n",
        "plt.xticks(rotation=45)  # Rotação dos rótulos das classes para melhor visualização\n",
        "plt.tight_layout()  # Garante que os rótulos e barras não fiquem cortados\n",
        "plt.show()\n",
        "\n"
      ],
      "metadata": {
        "colab": {
          "base_uri": "https://localhost:8080/",
          "height": 507
        },
        "outputId": "a7898d8a-9183-484f-d2b8-7ced49e59c3d",
        "id": "QaBJzvnPOYk4"
      },
      "execution_count": null,
      "outputs": [
        {
          "output_type": "display_data",
          "data": {
            "text/plain": [
              "<Figure size 2000x700 with 1 Axes>"
            ],
            "image/png": "[encoded data removed]"
          },
          "metadata": {}
        }
      ]
    },
    {
      "cell_type": "markdown",
      "source": [
        "# Implementando o modelo"
      ],
      "metadata": {
        "id": "6IkaTAWyRDtA"
      }
    },
    {
      "cell_type": "code",
      "source": [
        "# Importando stop words como in, the, of para que possam ser removidas dos textos\n",
        "# pois essas palavras não ajudam na determinação das classes\n",
        "stop_words = _stop_words.ENGLISH_STOP_WORDS\n",
        "# Função para limpeza/preprocessamento básico de textos\n",
        "def clean(doc):\n",
        "    # Remoção de sinais de pontuação (.,/\\][{} etc) e números\n",
        "    doc = \"\".join([char for char in doc if char not in string.punctuation and not char.isdigit()])\n",
        "    # Remoção de stop words\n",
        "    doc = \" \".join([token for token in doc.split() if token not in stop_words])\n",
        "    return doc.lower()\n"
      ],
      "metadata": {
        "id": "GJygsw_9VKK3"
      },
      "execution_count": null,
      "outputs": []
    },
    {
      "cell_type": "markdown",
      "source": [
        "Creating a Bag of Words vector"
      ],
      "metadata": {
        "id": "C0ISqzkqq6q-"
      }
    },
    {
      "cell_type": "code",
      "source": [
        "vect = CountVectorizer(max_features= 5000, preprocessor=clean)\n",
        "X_train_dtm = vect.fit_transform(dataset['train']['text'])\n",
        "X_val_dtm = vect.transform(dataset['validation']['text'])\n",
        "\n",
        "print(X_train_dtm.shape, X_val_dtm.shape)"
      ],
      "metadata": {
        "colab": {
          "base_uri": "https://localhost:8080/"
        },
        "id": "6za_LCBFW67V",
        "outputId": "67885631-06b3-4ca0-d42b-e4f50b9883cf"
      },
      "execution_count": null,
      "outputs": [
        {
          "output_type": "stream",
          "name": "stdout",
          "text": [
            "(16990, 5000) (4117, 5000)\n"
          ]
        }
      ]
    },
    {
      "cell_type": "code",
      "source": [
        "pd.DataFrame(X_train_dtm.A[:5], columns = vect.get_feature_names_out())"
      ],
      "metadata": {
        "colab": {
          "base_uri": "https://localhost:8080/",
          "height": 235
        },
        "id": "FOIEKmgwZSJj",
        "outputId": "f9c5ca58-8a58-43f5-8e1a-932bd8880a0a"
      },
      "execution_count": null,
      "outputs": [
        {
          "output_type": "execute_result",
          "data": {
            "text/plain": [
              "   aa  aal  aapl  ab  abandon  abandoned  abb  abbott  abbv  abbvie  ...  yum  \\\n",
              "0   0    0     0   0        0          0    0       0     0       0  ...    0   \n",
              "1   0    0     0   0        0          0    0       0     0       0  ...    0   \n",
              "2   0    0     0   0        0          0    0       0     0       0  ...    0   \n",
              "3   0    0     0   0        0          0    0       0     0       0  ...    0   \n",
              "4   0    0     0   0        0          0    0       0     0       0  ...    0   \n",
              "\n",
              "   yy  zahawi  zealand  zelenskiy  zendesk  zero  zew  zimbabwe  zone  \n",
              "0   0       0        0          0        0     0    0         0     0  \n",
              "1   0       0        0          0        0     0    0         0     0  \n",
              "2   0       0        0          0        0     0    0         0     0  \n",
              "3   0       0        0          0        0     0    0         0     0  \n",
              "4   0       0        0          0        0     0    0         0     0  \n",
              "\n",
              "[5 rows x 5000 columns]"
            ],
            "text/html": [
              "\n",
              "  <div id=\"df-bfb7e240-7dbe-4961-bd41-a803873751fc\" class=\"colab-df-container\">\n",
              "    <div>\n",
              "<style scoped>\n",
              "    .dataframe tbody tr th:only-of-type {\n",
              "        vertical-align: middle;\n",
              "    }\n",
              "\n",
              "    .dataframe tbody tr th {\n",
              "        vertical-align: top;\n",
              "    }\n",
              "\n",
              "    .dataframe thead th {\n",
              "        text-align: right;\n",
              "    }\n",
              "</style>\n",
              "<table border=\"1\" class=\"dataframe\">\n",
              "  <thead>\n",
              "    <tr style=\"text-align: right;\">\n",
              "      <th></th>\n",
              "      <th>aa</th>\n",
              "      <th>aal</th>\n",
              "      <th>aapl</th>\n",
              "      <th>ab</th>\n",
              "      <th>abandon</th>\n",
              "      <th>abandoned</th>\n",
              "      <th>abb</th>\n",
              "      <th>abbott</th>\n",
              "      <th>abbv</th>\n",
              "      <th>abbvie</th>\n",
              "      <th>...</th>\n",
              "      <th>yum</th>\n",
              "      <th>yy</th>\n",
              "      <th>zahawi</th>\n",
              "      <th>zealand</th>\n",
              "      <th>zelenskiy</th>\n",
              "      <th>zendesk</th>\n",
              "      <th>zero</th>\n",
              "      <th>zew</th>\n",
              "      <th>zimbabwe</th>\n",
              "      <th>zone</th>\n",
              "    </tr>\n",
              "  </thead>\n",
              "  <tbody>\n",
              "    <tr>\n",
              "      <th>0</th>\n",
              "      <td>0</td>\n",
              "      <td>0</td>\n",
              "      <td>0</td>\n",
              "      <td>0</td>\n",
              "      <td>0</td>\n",
              "      <td>0</td>\n",
              "      <td>0</td>\n",
              "      <td>0</td>\n",
              "      <td>0</td>\n",
              "      <td>0</td>\n",
              "      <td>...</td>\n",
              "      <td>0</td>\n",
              "      <td>0</td>\n",
              "      <td>0</td>\n",
              "      <td>0</td>\n",
              "      <td>0</td>\n",
              "      <td>0</td>\n",
              "      <td>0</td>\n",
              "      <td>0</td>\n",
              "      <td>0</td>\n",
              "      <td>0</td>\n",
              "    </tr>\n",
              "    <tr>\n",
              "      <th>1</th>\n",
              "      <td>0</td>\n",
              "      <td>0</td>\n",
              "      <td>0</td>\n",
              "      <td>0</td>\n",
              "      <td>0</td>\n",
              "      <td>0</td>\n",
              "      <td>0</td>\n",
              "      <td>0</td>\n",
              "      <td>0</td>\n",
              "      <td>0</td>\n",
              "      <td>...</td>\n",
              "      <td>0</td>\n",
              "      <td>0</td>\n",
              "      <td>0</td>\n",
              "      <td>0</td>\n",
              "      <td>0</td>\n",
              "      <td>0</td>\n",
              "      <td>0</td>\n",
              "      <td>0</td>\n",
              "      <td>0</td>\n",
              "      <td>0</td>\n",
              "    </tr>\n",
              "    <tr>\n",
              "      <th>2</th>\n",
              "      <td>0</td>\n",
              "      <td>0</td>\n",
              "      <td>0</td>\n",
              "      <td>0</td>\n",
              "      <td>0</td>\n",
              "      <td>0</td>\n",
              "      <td>0</td>\n",
              "      <td>0</td>\n",
              "      <td>0</td>\n",
              "      <td>0</td>\n",
              "      <td>...</td>\n",
              "      <td>0</td>\n",
              "      <td>0</td>\n",
              "      <td>0</td>\n",
              "      <td>0</td>\n",
              "      <td>0</td>\n",
              "      <td>0</td>\n",
              "      <td>0</td>\n",
              "      <td>0</td>\n",
              "      <td>0</td>\n",
              "      <td>0</td>\n",
              "    </tr>\n",
              "    <tr>\n",
              "      <th>3</th>\n",
              "      <td>0</td>\n",
              "      <td>0</td>\n",
              "      <td>0</td>\n",
              "      <td>0</td>\n",
              "      <td>0</td>\n",
              "      <td>0</td>\n",
              "      <td>0</td>\n",
              "      <td>0</td>\n",
              "      <td>0</td>\n",
              "      <td>0</td>\n",
              "      <td>...</td>\n",
              "      <td>0</td>\n",
              "      <td>0</td>\n",
              "      <td>0</td>\n",
              "      <td>0</td>\n",
              "      <td>0</td>\n",
              "      <td>0</td>\n",
              "      <td>0</td>\n",
              "      <td>0</td>\n",
              "      <td>0</td>\n",
              "      <td>0</td>\n",
              "    </tr>\n",
              "    <tr>\n",
              "      <th>4</th>\n",
              "      <td>0</td>\n",
              "      <td>0</td>\n",
              "      <td>0</td>\n",
              "      <td>0</td>\n",
              "      <td>0</td>\n",
              "      <td>0</td>\n",
              "      <td>0</td>\n",
              "      <td>0</td>\n",
              "      <td>0</td>\n",
              "      <td>0</td>\n",
              "      <td>...</td>\n",
              "      <td>0</td>\n",
              "      <td>0</td>\n",
              "      <td>0</td>\n",
              "      <td>0</td>\n",
              "      <td>0</td>\n",
              "      <td>0</td>\n",
              "      <td>0</td>\n",
              "      <td>0</td>\n",
              "      <td>0</td>\n",
              "      <td>0</td>\n",
              "    </tr>\n",
              "  </tbody>\n",
              "</table>\n",
              "<p>5 rows × 5000 columns</p>\n",
              "</div>\n",
              "    <div class=\"colab-df-buttons\">\n",
              "\n",
              "  <div class=\"colab-df-container\">\n",
              "    <button class=\"colab-df-convert\" onclick=\"convertToInteractive('df-bfb7e240-7dbe-4961-bd41-a803873751fc')\"\n",
              "            title=\"Convert this dataframe to an interactive table.\"\n",
              "            style=\"display:none;\">\n",
              "\n",
              "  <svg xmlns=\"http://www.w3.org/2000/svg\" height=\"24px\" viewBox=\"0 -960 960 960\">\n",
              "    <path d=\"M120-120v-720h720v720H120Zm60-500h600v-160H180v160Zm220 220h160v-160H400v160Zm0 220h160v-160H400v160ZM180-400h160v-160H180v160Zm440 0h160v-160H620v160ZM180-180h160v-160H180v160Zm440 0h160v-160H620v160Z\"/>\n",
              "  </svg>\n",
              "    </button>\n",
              "\n",
              "  <style>\n",
              "    .colab-df-container {\n",
              "      display:flex;\n",
              "      gap: 12px;\n",
              "    }\n",
              "\n",
              "    .colab-df-convert {\n",
              "      background-color: #E8F0FE;\n",
              "      border: none;\n",
              "      border-radius: 50%;\n",
              "      cursor: pointer;\n",
              "      display: none;\n",
              "      fill: #1967D2;\n",
              "      height: 32px;\n",
              "      padding: 0 0 0 0;\n",
              "      width: 32px;\n",
              "    }\n",
              "\n",
              "    .colab-df-convert:hover {\n",
              "      background-color: #E2EBFA;\n",
              "      box-shadow: 0px 1px 2px rgba(60, 64, 67, 0.3), 0px 1px 3px 1px rgba(60, 64, 67, 0.15);\n",
              "      fill: #174EA6;\n",
              "    }\n",
              "\n",
              "    .colab-df-buttons div {\n",
              "      margin-bottom: 4px;\n",
              "    }\n",
              "\n",
              "    [theme=dark] .colab-df-convert {\n",
              "      background-color: #3B4455;\n",
              "      fill: #D2E3FC;\n",
              "    }\n",
              "\n",
              "    [theme=dark] .colab-df-convert:hover {\n",
              "      background-color: #434B5C;\n",
              "      box-shadow: 0px 1px 3px 1px rgba(0, 0, 0, 0.15);\n",
              "      filter: drop-shadow(0px 1px 2px rgba(0, 0, 0, 0.3));\n",
              "      fill: #FFFFFF;\n",
              "    }\n",
              "  </style>\n",
              "\n",
              "    <script>\n",
              "      const buttonEl =\n",
              "        document.querySelector('#df-bfb7e240-7dbe-4961-bd41-a803873751fc button.colab-df-convert');\n",
              "      buttonEl.style.display =\n",
              "        google.colab.kernel.accessAllowed ? 'block' : 'none';\n",
              "\n",
              "      async function convertToInteractive(key) {\n",
              "        const element = document.querySelector('#df-bfb7e240-7dbe-4961-bd41-a803873751fc');\n",
              "        const dataTable =\n",
              "          await google.colab.kernel.invokeFunction('convertToInteractive',\n",
              "                                                    [key], {});\n",
              "        if (!dataTable) return;\n",
              "\n",
              "        const docLinkHtml = 'Like what you see? Visit the ' +\n",
              "          '<a target=\"_blank\" href=https://colab.research.google.com/notebooks/data_table.ipynb>data table notebook</a>'\n",
              "          + ' to learn more about interactive tables.';\n",
              "        element.innerHTML = '';\n",
              "        dataTable['output_type'] = 'display_data';\n",
              "        await google.colab.output.renderOutput(dataTable, element);\n",
              "        const docLink = document.createElement('div');\n",
              "        docLink.innerHTML = docLinkHtml;\n",
              "        element.appendChild(docLink);\n",
              "      }\n",
              "    </script>\n",
              "  </div>\n",
              "\n",
              "\n",
              "<div id=\"df-5c2f05c0-bc2f-4ec8-b159-0bc9d82039bb\">\n",
              "  <button class=\"colab-df-quickchart\" onclick=\"quickchart('df-5c2f05c0-bc2f-4ec8-b159-0bc9d82039bb')\"\n",
              "            title=\"Suggest charts\"\n",
              "            style=\"display:none;\">\n",
              "\n",
              "<svg xmlns=\"http://www.w3.org/2000/svg\" height=\"24px\"viewBox=\"0 0 24 24\"\n",
              "     width=\"24px\">\n",
              "    <g>\n",
              "        <path d=\"M19 3H5c-1.1 0-2 .9-2 2v14c0 1.1.9 2 2 2h14c1.1 0 2-.9 2-2V5c0-1.1-.9-2-2-2zM9 17H7v-7h2v7zm4 0h-2V7h2v10zm4 0h-2v-4h2v4z\"/>\n",
              "    </g>\n",
              "</svg>\n",
              "  </button>\n",
              "\n",
              "<style>\n",
              "  .colab-df-quickchart {\n",
              "      --bg-color: #E8F0FE;\n",
              "      --fill-color: #1967D2;\n",
              "      --hover-bg-color: #E2EBFA;\n",
              "      --hover-fill-color: #174EA6;\n",
              "      --disabled-fill-color: #AAA;\n",
              "      --disabled-bg-color: #DDD;\n",
              "  }\n",
              "\n",
              "  [theme=dark] .colab-df-quickchart {\n",
              "      --bg-color: #3B4455;\n",
              "      --fill-color: #D2E3FC;\n",
              "      --hover-bg-color: #434B5C;\n",
              "      --hover-fill-color: #FFFFFF;\n",
              "      --disabled-bg-color: #3B4455;\n",
              "      --disabled-fill-color: #666;\n",
              "  }\n",
              "\n",
              "  .colab-df-quickchart {\n",
              "    background-color: var(--bg-color);\n",
              "    border: none;\n",
              "    border-radius: 50%;\n",
              "    cursor: pointer;\n",
              "    display: none;\n",
              "    fill: var(--fill-color);\n",
              "    height: 32px;\n",
              "    padding: 0;\n",
              "    width: 32px;\n",
              "  }\n",
              "\n",
              "  .colab-df-quickchart:hover {\n",
              "    background-color: var(--hover-bg-color);\n",
              "    box-shadow: 0 1px 2px rgba(60, 64, 67, 0.3), 0 1px 3px 1px rgba(60, 64, 67, 0.15);\n",
              "    fill: var(--button-hover-fill-color);\n",
              "  }\n",
              "\n",
              "  .colab-df-quickchart-complete:disabled,\n",
              "  .colab-df-quickchart-complete:disabled:hover {\n",
              "    background-color: var(--disabled-bg-color);\n",
              "    fill: var(--disabled-fill-color);\n",
              "    box-shadow: none;\n",
              "  }\n",
              "\n",
              "  .colab-df-spinner {\n",
              "    border: 2px solid var(--fill-color);\n",
              "    border-color: transparent;\n",
              "    border-bottom-color: var(--fill-color);\n",
              "    animation:\n",
              "      spin 1s steps(1) infinite;\n",
              "  }\n",
              "\n",
              "  @keyframes spin {\n",
              "    0% {\n",
              "      border-color: transparent;\n",
              "      border-bottom-color: var(--fill-color);\n",
              "      border-left-color: var(--fill-color);\n",
              "    }\n",
              "    20% {\n",
              "      border-color: transparent;\n",
              "      border-left-color: var(--fill-color);\n",
              "      border-top-color: var(--fill-color);\n",
              "    }\n",
              "    30% {\n",
              "      border-color: transparent;\n",
              "      border-left-color: var(--fill-color);\n",
              "      border-top-color: var(--fill-color);\n",
              "      border-right-color: var(--fill-color);\n",
              "    }\n",
              "    40% {\n",
              "      border-color: transparent;\n",
              "      border-right-color: var(--fill-color);\n",
              "      border-top-color: var(--fill-color);\n",
              "    }\n",
              "    60% {\n",
              "      border-color: transparent;\n",
              "      border-right-color: var(--fill-color);\n",
              "    }\n",
              "    80% {\n",
              "      border-color: transparent;\n",
              "      border-right-color: var(--fill-color);\n",
              "      border-bottom-color: var(--fill-color);\n",
              "    }\n",
              "    90% {\n",
              "      border-color: transparent;\n",
              "      border-bottom-color: var(--fill-color);\n",
              "    }\n",
              "  }\n",
              "</style>\n",
              "\n",
              "  <script>\n",
              "    async function quickchart(key) {\n",
              "      const quickchartButtonEl =\n",
              "        document.querySelector('#' + key + ' button');\n",
              "      quickchartButtonEl.disabled = true;  // To prevent multiple clicks.\n",
              "      quickchartButtonEl.classList.add('colab-df-spinner');\n",
              "      try {\n",
              "        const charts = await google.colab.kernel.invokeFunction(\n",
              "            'suggestCharts', [key], {});\n",
              "      } catch (error) {\n",
              "        console.error('Error during call to suggestCharts:', error);\n",
              "      }\n",
              "      quickchartButtonEl.classList.remove('colab-df-spinner');\n",
              "      quickchartButtonEl.classList.add('colab-df-quickchart-complete');\n",
              "    }\n",
              "    (() => {\n",
              "      let quickchartButtonEl =\n",
              "        document.querySelector('#df-5c2f05c0-bc2f-4ec8-b159-0bc9d82039bb button');\n",
              "      quickchartButtonEl.style.display =\n",
              "        google.colab.kernel.accessAllowed ? 'block' : 'none';\n",
              "    })();\n",
              "  </script>\n",
              "</div>\n",
              "    </div>\n",
              "  </div>\n"
            ]
          },
          "metadata": {},
          "execution_count": 16
        }
      ]
    },
    {
      "cell_type": "code",
      "source": [
        "dataset[\"validation\"]['label'][0]"
      ],
      "metadata": {
        "colab": {
          "base_uri": "https://localhost:8080/"
        },
        "id": "ZxGKB4S5iau8",
        "outputId": "d086ef79-f763-4d4d-cd50-1fe315efcfc3"
      },
      "execution_count": null,
      "outputs": [
        {
          "output_type": "execute_result",
          "data": {
            "text/plain": [
              "0"
            ]
          },
          "metadata": {},
          "execution_count": 18
        }
      ]
    },
    {
      "cell_type": "code",
      "source": [
        "dataset"
      ],
      "metadata": {
        "colab": {
          "base_uri": "https://localhost:8080/"
        },
        "id": "t1OZvCVKPGSp",
        "outputId": "0b3fe820-7a15-45e6-f038-8a2951dc2e07"
      },
      "execution_count": null,
      "outputs": [
        {
          "output_type": "execute_result",
          "data": {
            "text/plain": [
              "DatasetDict({\n",
              "    train: Dataset({\n",
              "        features: ['text', 'label'],\n",
              "        num_rows: 16990\n",
              "    })\n",
              "    validation: Dataset({\n",
              "        features: ['text', 'label'],\n",
              "        num_rows: 4117\n",
              "    })\n",
              "})"
            ]
          },
          "metadata": {},
          "execution_count": 19
        }
      ]
    },
    {
      "cell_type": "code",
      "source": [
        "\n",
        "new_dataset = {\n",
        "    \"train\": {\n",
        "        \"text\": dataset['train'][\"text\"],\n",
        "        \"label\": [topics[f'LABEL_{label}'] if label in range(20) else label for label in dataset[\"train\"]['label']],\n",
        "    },\n",
        "    \"validation\": {\n",
        "        \"text\": dataset['validation'][\"text\"],\n",
        "        \"label\": [topics[f'LABEL_{label}'] if label in range(20) else label for label in dataset[\"validation\"]['label']],\n",
        "    },\n",
        "}\n",
        "\n",
        "\n",
        "\n"
      ],
      "metadata": {
        "id": "juhg7lJ2gb9T"
      },
      "execution_count": null,
      "outputs": []
    },
    {
      "cell_type": "code",
      "source": [
        "# One-hot encoding a single column\n",
        "from sklearn.preprocessing import OneHotEncoder\n",
        "from seaborn import load_dataset"
      ],
      "metadata": {
        "id": "Oaz35v9al8ge"
      },
      "execution_count": null,
      "outputs": []
    },
    {
      "cell_type": "code",
      "source": [
        "array = np. array(new_dataset['train']['label'])\n",
        "dfTrainLabel = pd. DataFrame(array)\n",
        "array = np. array(new_dataset['validation']['label'])\n",
        "dfValLabel = pd. DataFrame(array)\n",
        "array = np. array(new_dataset['validation']['text'])\n",
        "dfValText = pd. DataFrame(array)\n",
        "array = np. array(new_dataset['train']['text'])\n",
        "dfTrainText = pd. DataFrame(array)"
      ],
      "metadata": {
        "id": "_NYo5ghgqLk6"
      },
      "execution_count": null,
      "outputs": []
    },
    {
      "cell_type": "code",
      "source": [
        "ohe = OneHotEncoder()\n",
        "transformedTrain = ohe.fit_transform(dfTrainLabel[[0]])\n",
        "print(transformedTrain.toarray())\n",
        "transformedVal = ohe.fit_transform(dfValLabel[[0]])"
      ],
      "metadata": {
        "colab": {
          "base_uri": "https://localhost:8080/"
        },
        "id": "O3o3E88doaKF",
        "outputId": "40a9dbc2-edbd-4976-de52-596fc698132e"
      },
      "execution_count": null,
      "outputs": [
        {
          "output_type": "stream",
          "name": "stdout",
          "text": [
            "[[1. 0. 0. ... 0. 0. 0.]\n",
            " [1. 0. 0. ... 0. 0. 0.]\n",
            " [1. 0. 0. ... 0. 0. 0.]\n",
            " ...\n",
            " [0. 0. 0. ... 0. 0. 1.]\n",
            " [0. 0. 0. ... 0. 0. 1.]\n",
            " [0. 0. 0. ... 0. 0. 1.]]\n"
          ]
        }
      ]
    },
    {
      "cell_type": "code",
      "source": [
        "ohe.categories_"
      ],
      "metadata": {
        "colab": {
          "base_uri": "https://localhost:8080/"
        },
        "id": "7GBt_ttbOP8w",
        "outputId": "f342d811-d7b2-4111-b50e-0767472f445d"
      },
      "execution_count": null,
      "outputs": [
        {
          "output_type": "execute_result",
          "data": {
            "text/plain": [
              "[array(['Analyst Update', 'Company | Product News', 'Currencies',\n",
              "        'Dividend', 'Earnings', 'Energy | Oil', 'Fed | Central Banks',\n",
              "        'Financials', 'General News | Opinion',\n",
              "        'Gold | Metals | Materials', 'IPO', 'Legal | Regulation',\n",
              "        'M&A | Investments', 'Macro', 'Markets', 'Personnel Change',\n",
              "        'Politics', 'Stock Commentary', 'Stock Movement',\n",
              "        'Treasuries | Corporate Debt'], dtype=object)]"
            ]
          },
          "metadata": {},
          "execution_count": 24
        }
      ]
    },
    {
      "cell_type": "code",
      "source": [
        "#Initializing and fitting models on Training Data\n",
        "#Naive Bayes Model\n",
        "nb = MultiOutputClassifier(MultinomialNB()).fit(X_train_dtm, transformedTrain.toarray())\n",
        "#Logistic Regression Model (As we have unbalanced dataset, we use class_weight which will use inverse\n",
        "#of counts of that class. It penalizes mistakes in samples of class[i] with class_weight[i] instead of 1)\n",
        "lr = MultiOutputClassifier(LogisticRegression(class_weight='balanced', max_iter=3000)) \\\n",
        "                    .fit(X_train_dtm, transformedTrain.toarray())"
      ],
      "metadata": {
        "id": "vESYZJGpbFfT"
      },
      "execution_count": null,
      "outputs": []
    },
    {
      "cell_type": "code",
      "source": [
        "#Function for calculating roc auc with given actual binary values across target variables\n",
        "#and the probability score made by the model\n",
        "def calculate_roc_auc(y_test, y_pred):\n",
        "    aucs = []\n",
        "    #Calculate the ROC-AUC for each of the target column\n",
        "    for col in range(y_test.shape[1]):\n",
        "        aucs.append(roc_auc_score(y_test[:,col],y_pred[:,col]))\n",
        "    return aucs"
      ],
      "metadata": {
        "id": "WRPXLNRXUyV_"
      },
      "execution_count": null,
      "outputs": []
    },
    {
      "cell_type": "code",
      "source": [
        "#Creating an empty list of results\n",
        "results = []\n",
        "#Making predictions from all the trained models and measure performance for each\n",
        "for model in [nb,lr]:\n",
        "    #Extracting name of the model\n",
        "    est = type(model.estimator).__name__\n",
        "    #Actual output variables\n",
        "    y_vals = transformedVal.toarray()\n",
        "    #Model Probabilities for class 1 of each of the target variables\n",
        "    y_preds = np.transpose(np.array(model.predict_proba(X_val_dtm))[:,:,1])\n",
        "    #Calculate Mean of the ROC-AUC\n",
        "    mean_auc = mean(calculate_roc_auc(y_vals,y_preds))\n",
        "    #Append the name of the model and the mean_roc_auc into the results list\n",
        "    results.append([est, mean_auc])\n",
        "\n",
        "#Output the results as a table\n",
        "pd.DataFrame(results, columns = [\"Model\",\"Mean AUC\"])"
      ],
      "metadata": {
        "colab": {
          "base_uri": "https://localhost:8080/",
          "height": 112
        },
        "id": "WR0NQsyGU5Kf",
        "outputId": "219fadec-57c7-47c7-9815-9eebc1911aad"
      },
      "execution_count": null,
      "outputs": [
        {
          "output_type": "execute_result",
          "data": {
            "text/plain": [
              "                Model  Mean AUC\n",
              "0       MultinomialNB      0.95\n",
              "1  LogisticRegression      0.98"
            ],
            "text/html": [
              "\n",
              "  <div id=\"df-0d14876e-c144-461d-b260-401c20552f11\" class=\"colab-df-container\">\n",
              "    <div>\n",
              "<style scoped>\n",
              "    .dataframe tbody tr th:only-of-type {\n",
              "        vertical-align: middle;\n",
              "    }\n",
              "\n",
              "    .dataframe tbody tr th {\n",
              "        vertical-align: top;\n",
              "    }\n",
              "\n",
              "    .dataframe thead th {\n",
              "        text-align: right;\n",
              "    }\n",
              "</style>\n",
              "<table border=\"1\" class=\"dataframe\">\n",
              "  <thead>\n",
              "    <tr style=\"text-align: right;\">\n",
              "      <th></th>\n",
              "      <th>Model</th>\n",
              "      <th>Mean AUC</th>\n",
              "    </tr>\n",
              "  </thead>\n",
              "  <tbody>\n",
              "    <tr>\n",
              "      <th>0</th>\n",
              "      <td>MultinomialNB</td>\n",
              "      <td>0.95</td>\n",
              "    </tr>\n",
              "    <tr>\n",
              "      <th>1</th>\n",
              "      <td>LogisticRegression</td>\n",
              "      <td>0.98</td>\n",
              "    </tr>\n",
              "  </tbody>\n",
              "</table>\n",
              "</div>\n",
              "    <div class=\"colab-df-buttons\">\n",
              "\n",
              "  <div class=\"colab-df-container\">\n",
              "    <button class=\"colab-df-convert\" onclick=\"convertToInteractive('df-0d14876e-c144-461d-b260-401c20552f11')\"\n",
              "            title=\"Convert this dataframe to an interactive table.\"\n",
              "            style=\"display:none;\">\n",
              "\n",
              "  <svg xmlns=\"http://www.w3.org/2000/svg\" height=\"24px\" viewBox=\"0 -960 960 960\">\n",
              "    <path d=\"M120-120v-720h720v720H120Zm60-500h600v-160H180v160Zm220 220h160v-160H400v160Zm0 220h160v-160H400v160ZM180-400h160v-160H180v160Zm440 0h160v-160H620v160ZM180-180h160v-160H180v160Zm440 0h160v-160H620v160Z\"/>\n",
              "  </svg>\n",
              "    </button>\n",
              "\n",
              "  <style>\n",
              "    .colab-df-container {\n",
              "      display:flex;\n",
              "      gap: 12px;\n",
              "    }\n",
              "\n",
              "    .colab-df-convert {\n",
              "      background-color: #E8F0FE;\n",
              "      border: none;\n",
              "      border-radius: 50%;\n",
              "      cursor: pointer;\n",
              "      display: none;\n",
              "      fill: #1967D2;\n",
              "      height: 32px;\n",
              "      padding: 0 0 0 0;\n",
              "      width: 32px;\n",
              "    }\n",
              "\n",
              "    .colab-df-convert:hover {\n",
              "      background-color: #E2EBFA;\n",
              "      box-shadow: 0px 1px 2px rgba(60, 64, 67, 0.3), 0px 1px 3px 1px rgba(60, 64, 67, 0.15);\n",
              "      fill: #174EA6;\n",
              "    }\n",
              "\n",
              "    .colab-df-buttons div {\n",
              "      margin-bottom: 4px;\n",
              "    }\n",
              "\n",
              "    [theme=dark] .colab-df-convert {\n",
              "      background-color: #3B4455;\n",
              "      fill: #D2E3FC;\n",
              "    }\n",
              "\n",
              "    [theme=dark] .colab-df-convert:hover {\n",
              "      background-color: #434B5C;\n",
              "      box-shadow: 0px 1px 3px 1px rgba(0, 0, 0, 0.15);\n",
              "      filter: drop-shadow(0px 1px 2px rgba(0, 0, 0, 0.3));\n",
              "      fill: #FFFFFF;\n",
              "    }\n",
              "  </style>\n",
              "\n",
              "    <script>\n",
              "      const buttonEl =\n",
              "        document.querySelector('#df-0d14876e-c144-461d-b260-401c20552f11 button.colab-df-convert');\n",
              "      buttonEl.style.display =\n",
              "        google.colab.kernel.accessAllowed ? 'block' : 'none';\n",
              "\n",
              "      async function convertToInteractive(key) {\n",
              "        const element = document.querySelector('#df-0d14876e-c144-461d-b260-401c20552f11');\n",
              "        const dataTable =\n",
              "          await google.colab.kernel.invokeFunction('convertToInteractive',\n",
              "                                                    [key], {});\n",
              "        if (!dataTable) return;\n",
              "\n",
              "        const docLinkHtml = 'Like what you see? Visit the ' +\n",
              "          '<a target=\"_blank\" href=https://colab.research.google.com/notebooks/data_table.ipynb>data table notebook</a>'\n",
              "          + ' to learn more about interactive tables.';\n",
              "        element.innerHTML = '';\n",
              "        dataTable['output_type'] = 'display_data';\n",
              "        await google.colab.output.renderOutput(dataTable, element);\n",
              "        const docLink = document.createElement('div');\n",
              "        docLink.innerHTML = docLinkHtml;\n",
              "        element.appendChild(docLink);\n",
              "      }\n",
              "    </script>\n",
              "  </div>\n",
              "\n",
              "\n",
              "<div id=\"df-2b5d205d-cb7c-4d37-8f8f-31652e94cef9\">\n",
              "  <button class=\"colab-df-quickchart\" onclick=\"quickchart('df-2b5d205d-cb7c-4d37-8f8f-31652e94cef9')\"\n",
              "            title=\"Suggest charts\"\n",
              "            style=\"display:none;\">\n",
              "\n",
              "<svg xmlns=\"http://www.w3.org/2000/svg\" height=\"24px\"viewBox=\"0 0 24 24\"\n",
              "     width=\"24px\">\n",
              "    <g>\n",
              "        <path d=\"M19 3H5c-1.1 0-2 .9-2 2v14c0 1.1.9 2 2 2h14c1.1 0 2-.9 2-2V5c0-1.1-.9-2-2-2zM9 17H7v-7h2v7zm4 0h-2V7h2v10zm4 0h-2v-4h2v4z\"/>\n",
              "    </g>\n",
              "</svg>\n",
              "  </button>\n",
              "\n",
              "<style>\n",
              "  .colab-df-quickchart {\n",
              "      --bg-color: #E8F0FE;\n",
              "      --fill-color: #1967D2;\n",
              "      --hover-bg-color: #E2EBFA;\n",
              "      --hover-fill-color: #174EA6;\n",
              "      --disabled-fill-color: #AAA;\n",
              "      --disabled-bg-color: #DDD;\n",
              "  }\n",
              "\n",
              "  [theme=dark] .colab-df-quickchart {\n",
              "      --bg-color: #3B4455;\n",
              "      --fill-color: #D2E3FC;\n",
              "      --hover-bg-color: #434B5C;\n",
              "      --hover-fill-color: #FFFFFF;\n",
              "      --disabled-bg-color: #3B4455;\n",
              "      --disabled-fill-color: #666;\n",
              "  }\n",
              "\n",
              "  .colab-df-quickchart {\n",
              "    background-color: var(--bg-color);\n",
              "    border: none;\n",
              "    border-radius: 50%;\n",
              "    cursor: pointer;\n",
              "    display: none;\n",
              "    fill: var(--fill-color);\n",
              "    height: 32px;\n",
              "    padding: 0;\n",
              "    width: 32px;\n",
              "  }\n",
              "\n",
              "  .colab-df-quickchart:hover {\n",
              "    background-color: var(--hover-bg-color);\n",
              "    box-shadow: 0 1px 2px rgba(60, 64, 67, 0.3), 0 1px 3px 1px rgba(60, 64, 67, 0.15);\n",
              "    fill: var(--button-hover-fill-color);\n",
              "  }\n",
              "\n",
              "  .colab-df-quickchart-complete:disabled,\n",
              "  .colab-df-quickchart-complete:disabled:hover {\n",
              "    background-color: var(--disabled-bg-color);\n",
              "    fill: var(--disabled-fill-color);\n",
              "    box-shadow: none;\n",
              "  }\n",
              "\n",
              "  .colab-df-spinner {\n",
              "    border: 2px solid var(--fill-color);\n",
              "    border-color: transparent;\n",
              "    border-bottom-color: var(--fill-color);\n",
              "    animation:\n",
              "      spin 1s steps(1) infinite;\n",
              "  }\n",
              "\n",
              "  @keyframes spin {\n",
              "    0% {\n",
              "      border-color: transparent;\n",
              "      border-bottom-color: var(--fill-color);\n",
              "      border-left-color: var(--fill-color);\n",
              "    }\n",
              "    20% {\n",
              "      border-color: transparent;\n",
              "      border-left-color: var(--fill-color);\n",
              "      border-top-color: var(--fill-color);\n",
              "    }\n",
              "    30% {\n",
              "      border-color: transparent;\n",
              "      border-left-color: var(--fill-color);\n",
              "      border-top-color: var(--fill-color);\n",
              "      border-right-color: var(--fill-color);\n",
              "    }\n",
              "    40% {\n",
              "      border-color: transparent;\n",
              "      border-right-color: var(--fill-color);\n",
              "      border-top-color: var(--fill-color);\n",
              "    }\n",
              "    60% {\n",
              "      border-color: transparent;\n",
              "      border-right-color: var(--fill-color);\n",
              "    }\n",
              "    80% {\n",
              "      border-color: transparent;\n",
              "      border-right-color: var(--fill-color);\n",
              "      border-bottom-color: var(--fill-color);\n",
              "    }\n",
              "    90% {\n",
              "      border-color: transparent;\n",
              "      border-bottom-color: var(--fill-color);\n",
              "    }\n",
              "  }\n",
              "</style>\n",
              "\n",
              "  <script>\n",
              "    async function quickchart(key) {\n",
              "      const quickchartButtonEl =\n",
              "        document.querySelector('#' + key + ' button');\n",
              "      quickchartButtonEl.disabled = true;  // To prevent multiple clicks.\n",
              "      quickchartButtonEl.classList.add('colab-df-spinner');\n",
              "      try {\n",
              "        const charts = await google.colab.kernel.invokeFunction(\n",
              "            'suggestCharts', [key], {});\n",
              "      } catch (error) {\n",
              "        console.error('Error during call to suggestCharts:', error);\n",
              "      }\n",
              "      quickchartButtonEl.classList.remove('colab-df-spinner');\n",
              "      quickchartButtonEl.classList.add('colab-df-quickchart-complete');\n",
              "    }\n",
              "    (() => {\n",
              "      let quickchartButtonEl =\n",
              "        document.querySelector('#df-2b5d205d-cb7c-4d37-8f8f-31652e94cef9 button');\n",
              "      quickchartButtonEl.style.display =\n",
              "        google.colab.kernel.accessAllowed ? 'block' : 'none';\n",
              "    })();\n",
              "  </script>\n",
              "</div>\n",
              "    </div>\n",
              "  </div>\n"
            ]
          },
          "metadata": {},
          "execution_count": 27
        }
      ]
    },
    {
      "cell_type": "code",
      "source": [
        "dfValLabel[ohe.categories_[0]] = transformedVal.toarray()\n",
        "dfValLabel.drop(0,\n",
        "  axis='columns', inplace=True)\n"
      ],
      "metadata": {
        "id": "adBGBUusaQx4"
      },
      "execution_count": null,
      "outputs": []
    },
    {
      "cell_type": "code",
      "source": [
        "dfValText.shape"
      ],
      "metadata": {
        "colab": {
          "base_uri": "https://localhost:8080/"
        },
        "id": "0PLp6BaHhW3O",
        "outputId": "ac26ed11-d037-4c04-92cc-d55fd3f9795c"
      },
      "execution_count": null,
      "outputs": [
        {
          "output_type": "execute_result",
          "data": {
            "text/plain": [
              "(4117, 1)"
            ]
          },
          "metadata": {},
          "execution_count": 29
        }
      ]
    },
    {
      "cell_type": "code",
      "source": [
        "# Merging the test dataset with sample_submission to have all the columns:\n",
        "#id,text_data and the target variables in one dataframe\n",
        "df_test = pd.merge(dfValText, dfValLabel, left_index= True, right_index=True)\n",
        "#Transform the test dataset as well based on Bag of Words/ Count Vectorizer as the Logistic model would\n",
        "#expect the same\n",
        "X_test_dtm = vect.transform(df_test[0])\n",
        "#Use the Logistic Regression model to output probabilities and take the probability for class 1\n",
        "y_preds = np.transpose(np.array(lr.predict_proba(X_test_dtm))[:,:,1])\n",
        "#Assign the predictions by the model in the final test dataset\n",
        "df_test[classes] = y_preds\n",
        "#Drop Comment Text as the sample submission doesnt have it and wouldnt be expected\n",
        "df_test.drop([0], axis = 1, inplace = True)\n",
        "#Save the dataset as a csv to submit it\n",
        "df_test.to_csv(\"sample_submission.csv\", index = False)"
      ],
      "metadata": {
        "id": "y4Biz3IpZID9"
      },
      "execution_count": null,
      "outputs": []
    },
    {
      "cell_type": "code",
      "source": [
        "Wclasses = classes\n",
        "Wclasses.insert(0, 'Word')"
      ],
      "metadata": {
        "id": "ttzetrLwlB3w"
      },
      "execution_count": null,
      "outputs": []
    },
    {
      "cell_type": "code",
      "source": [
        "#Assigning the feature names to an empty list\n",
        "feat_impts = [vect.get_feature_names_out()]\n",
        "#For all the models save the feature importances in the list.estimators_ would give the internal models used by the multioutput regressor\n",
        "for clf in lr.estimators_:\n",
        "    feat_impts.append(clf.coef_.flatten())\n",
        "#Saving the results in a dataframe\n",
        "df_feats_impts = pd.DataFrame(np.transpose(np.array(feat_impts)), columns = Wclasses)\n",
        "#Converting Feature Importance Columns from string to float\n",
        "classes.pop(0)\n",
        "df_feats_impts[classes] = df_feats_impts[classes].astype(\"float32\")\n",
        "df_feats_impts.head()"
      ],
      "metadata": {
        "colab": {
          "base_uri": "https://localhost:8080/",
          "height": 307
        },
        "id": "6x7OnE4ljO2O",
        "outputId": "fa5d17e1-27f8-412c-b7ba-7d59c0cacf28"
      },
      "execution_count": null,
      "outputs": [
        {
          "output_type": "execute_result",
          "data": {
            "text/plain": [
              "      Word  Analyst Update  Fed | Central Banks  Company | Product News  \\\n",
              "0       aa            1.30                -0.19                   -0.17   \n",
              "1      aal           -0.36                 0.06                   -0.04   \n",
              "2     aapl            0.81                -0.86                   -0.11   \n",
              "3       ab           -0.07                -0.27                   -0.04   \n",
              "4  abandon           -0.12                 0.61                   -0.01   \n",
              "\n",
              "   Treasuries | Corporate Debt  Dividend  Earnings  Energy | Oil  Financials  \\\n",
              "0                        -0.00     -0.18     -0.03         -0.05       -0.44   \n",
              "1                        -0.02      0.14     -0.42         -0.08       -0.18   \n",
              "2                        -0.07     -0.25     -0.57         -0.34       -0.41   \n",
              "3                        -0.02      0.01     -0.05         -0.06        0.62   \n",
              "4                        -0.00     -0.02     -0.02          0.13       -0.03   \n",
              "\n",
              "   Currencies  ...  Gold | Metals | Materials   IPO  Legal | Regulation  \\\n",
              "0       -0.16  ...                      -0.00 -0.03               -0.03   \n",
              "1       -0.52  ...                      -0.01 -0.06               -0.13   \n",
              "2       -1.31  ...                      -0.05 -0.22               -0.38   \n",
              "3       -0.21  ...                      -0.03 -0.09               -0.09   \n",
              "4       -0.17  ...                      -0.01 -0.31               -0.28   \n",
              "\n",
              "   M&A | Investments  Macro  Markets  Politics  Personnel Change  \\\n",
              "0              -0.38  -0.50    -0.02     -0.05              0.26   \n",
              "1              -0.45  -0.04    -0.36     -0.09              1.11   \n",
              "2              -1.02  -0.38    -0.20     -0.25              2.06   \n",
              "3              -0.15  -0.19    -0.10     -0.06             -0.45   \n",
              "4              -0.25  -0.02    -0.00     -0.07              0.15   \n",
              "\n",
              "   Stock Commentary  Stock Movement  \n",
              "0             -0.16           -0.14  \n",
              "1              0.53           -0.06  \n",
              "2              0.35           -0.42  \n",
              "3             -0.20           -0.08  \n",
              "4             -0.24           -0.05  \n",
              "\n",
              "[5 rows x 21 columns]"
            ],
            "text/html": [
              "\n",
              "  <div id=\"df-73f4c24b-3e89-4762-bf3e-b1b0ee716f5c\" class=\"colab-df-container\">\n",
              "    <div>\n",
              "<style scoped>\n",
              "    .dataframe tbody tr th:only-of-type {\n",
              "        vertical-align: middle;\n",
              "    }\n",
              "\n",
              "    .dataframe tbody tr th {\n",
              "        vertical-align: top;\n",
              "    }\n",
              "\n",
              "    .dataframe thead th {\n",
              "        text-align: right;\n",
              "    }\n",
              "</style>\n",
              "<table border=\"1\" class=\"dataframe\">\n",
              "  <thead>\n",
              "    <tr style=\"text-align: right;\">\n",
              "      <th></th>\n",
              "      <th>Word</th>\n",
              "      <th>Analyst Update</th>\n",
              "      <th>Fed | Central Banks</th>\n",
              "      <th>Company | Product News</th>\n",
              "      <th>Treasuries | Corporate Debt</th>\n",
              "      <th>Dividend</th>\n",
              "      <th>Earnings</th>\n",
              "      <th>Energy | Oil</th>\n",
              "      <th>Financials</th>\n",
              "      <th>Currencies</th>\n",
              "      <th>...</th>\n",
              "      <th>Gold | Metals | Materials</th>\n",
              "      <th>IPO</th>\n",
              "      <th>Legal | Regulation</th>\n",
              "      <th>M&amp;A | Investments</th>\n",
              "      <th>Macro</th>\n",
              "      <th>Markets</th>\n",
              "      <th>Politics</th>\n",
              "      <th>Personnel Change</th>\n",
              "      <th>Stock Commentary</th>\n",
              "      <th>Stock Movement</th>\n",
              "    </tr>\n",
              "  </thead>\n",
              "  <tbody>\n",
              "    <tr>\n",
              "      <th>0</th>\n",
              "      <td>aa</td>\n",
              "      <td>1.30</td>\n",
              "      <td>-0.19</td>\n",
              "      <td>-0.17</td>\n",
              "      <td>-0.00</td>\n",
              "      <td>-0.18</td>\n",
              "      <td>-0.03</td>\n",
              "      <td>-0.05</td>\n",
              "      <td>-0.44</td>\n",
              "      <td>-0.16</td>\n",
              "      <td>...</td>\n",
              "      <td>-0.00</td>\n",
              "      <td>-0.03</td>\n",
              "      <td>-0.03</td>\n",
              "      <td>-0.38</td>\n",
              "      <td>-0.50</td>\n",
              "      <td>-0.02</td>\n",
              "      <td>-0.05</td>\n",
              "      <td>0.26</td>\n",
              "      <td>-0.16</td>\n",
              "      <td>-0.14</td>\n",
              "    </tr>\n",
              "    <tr>\n",
              "      <th>1</th>\n",
              "      <td>aal</td>\n",
              "      <td>-0.36</td>\n",
              "      <td>0.06</td>\n",
              "      <td>-0.04</td>\n",
              "      <td>-0.02</td>\n",
              "      <td>0.14</td>\n",
              "      <td>-0.42</td>\n",
              "      <td>-0.08</td>\n",
              "      <td>-0.18</td>\n",
              "      <td>-0.52</td>\n",
              "      <td>...</td>\n",
              "      <td>-0.01</td>\n",
              "      <td>-0.06</td>\n",
              "      <td>-0.13</td>\n",
              "      <td>-0.45</td>\n",
              "      <td>-0.04</td>\n",
              "      <td>-0.36</td>\n",
              "      <td>-0.09</td>\n",
              "      <td>1.11</td>\n",
              "      <td>0.53</td>\n",
              "      <td>-0.06</td>\n",
              "    </tr>\n",
              "    <tr>\n",
              "      <th>2</th>\n",
              "      <td>aapl</td>\n",
              "      <td>0.81</td>\n",
              "      <td>-0.86</td>\n",
              "      <td>-0.11</td>\n",
              "      <td>-0.07</td>\n",
              "      <td>-0.25</td>\n",
              "      <td>-0.57</td>\n",
              "      <td>-0.34</td>\n",
              "      <td>-0.41</td>\n",
              "      <td>-1.31</td>\n",
              "      <td>...</td>\n",
              "      <td>-0.05</td>\n",
              "      <td>-0.22</td>\n",
              "      <td>-0.38</td>\n",
              "      <td>-1.02</td>\n",
              "      <td>-0.38</td>\n",
              "      <td>-0.20</td>\n",
              "      <td>-0.25</td>\n",
              "      <td>2.06</td>\n",
              "      <td>0.35</td>\n",
              "      <td>-0.42</td>\n",
              "    </tr>\n",
              "    <tr>\n",
              "      <th>3</th>\n",
              "      <td>ab</td>\n",
              "      <td>-0.07</td>\n",
              "      <td>-0.27</td>\n",
              "      <td>-0.04</td>\n",
              "      <td>-0.02</td>\n",
              "      <td>0.01</td>\n",
              "      <td>-0.05</td>\n",
              "      <td>-0.06</td>\n",
              "      <td>0.62</td>\n",
              "      <td>-0.21</td>\n",
              "      <td>...</td>\n",
              "      <td>-0.03</td>\n",
              "      <td>-0.09</td>\n",
              "      <td>-0.09</td>\n",
              "      <td>-0.15</td>\n",
              "      <td>-0.19</td>\n",
              "      <td>-0.10</td>\n",
              "      <td>-0.06</td>\n",
              "      <td>-0.45</td>\n",
              "      <td>-0.20</td>\n",
              "      <td>-0.08</td>\n",
              "    </tr>\n",
              "    <tr>\n",
              "      <th>4</th>\n",
              "      <td>abandon</td>\n",
              "      <td>-0.12</td>\n",
              "      <td>0.61</td>\n",
              "      <td>-0.01</td>\n",
              "      <td>-0.00</td>\n",
              "      <td>-0.02</td>\n",
              "      <td>-0.02</td>\n",
              "      <td>0.13</td>\n",
              "      <td>-0.03</td>\n",
              "      <td>-0.17</td>\n",
              "      <td>...</td>\n",
              "      <td>-0.01</td>\n",
              "      <td>-0.31</td>\n",
              "      <td>-0.28</td>\n",
              "      <td>-0.25</td>\n",
              "      <td>-0.02</td>\n",
              "      <td>-0.00</td>\n",
              "      <td>-0.07</td>\n",
              "      <td>0.15</td>\n",
              "      <td>-0.24</td>\n",
              "      <td>-0.05</td>\n",
              "    </tr>\n",
              "  </tbody>\n",
              "</table>\n",
              "<p>5 rows × 21 columns</p>\n",
              "</div>\n",
              "    <div class=\"colab-df-buttons\">\n",
              "\n",
              "  <div class=\"colab-df-container\">\n",
              "    <button class=\"colab-df-convert\" onclick=\"convertToInteractive('df-73f4c24b-3e89-4762-bf3e-b1b0ee716f5c')\"\n",
              "            title=\"Convert this dataframe to an interactive table.\"\n",
              "            style=\"display:none;\">\n",
              "\n",
              "  <svg xmlns=\"http://www.w3.org/2000/svg\" height=\"24px\" viewBox=\"0 -960 960 960\">\n",
              "    <path d=\"M120-120v-720h720v720H120Zm60-500h600v-160H180v160Zm220 220h160v-160H400v160Zm0 220h160v-160H400v160ZM180-400h160v-160H180v160Zm440 0h160v-160H620v160ZM180-180h160v-160H180v160Zm440 0h160v-160H620v160Z\"/>\n",
              "  </svg>\n",
              "    </button>\n",
              "\n",
              "  <style>\n",
              "    .colab-df-container {\n",
              "      display:flex;\n",
              "      gap: 12px;\n",
              "    }\n",
              "\n",
              "    .colab-df-convert {\n",
              "      background-color: #E8F0FE;\n",
              "      border: none;\n",
              "      border-radius: 50%;\n",
              "      cursor: pointer;\n",
              "      display: none;\n",
              "      fill: #1967D2;\n",
              "      height: 32px;\n",
              "      padding: 0 0 0 0;\n",
              "      width: 32px;\n",
              "    }\n",
              "\n",
              "    .colab-df-convert:hover {\n",
              "      background-color: #E2EBFA;\n",
              "      box-shadow: 0px 1px 2px rgba(60, 64, 67, 0.3), 0px 1px 3px 1px rgba(60, 64, 67, 0.15);\n",
              "      fill: #174EA6;\n",
              "    }\n",
              "\n",
              "    .colab-df-buttons div {\n",
              "      margin-bottom: 4px;\n",
              "    }\n",
              "\n",
              "    [theme=dark] .colab-df-convert {\n",
              "      background-color: #3B4455;\n",
              "      fill: #D2E3FC;\n",
              "    }\n",
              "\n",
              "    [theme=dark] .colab-df-convert:hover {\n",
              "      background-color: #434B5C;\n",
              "      box-shadow: 0px 1px 3px 1px rgba(0, 0, 0, 0.15);\n",
              "      filter: drop-shadow(0px 1px 2px rgba(0, 0, 0, 0.3));\n",
              "      fill: #FFFFFF;\n",
              "    }\n",
              "  </style>\n",
              "\n",
              "    <script>\n",
              "      const buttonEl =\n",
              "        document.querySelector('#df-73f4c24b-3e89-4762-bf3e-b1b0ee716f5c button.colab-df-convert');\n",
              "      buttonEl.style.display =\n",
              "        google.colab.kernel.accessAllowed ? 'block' : 'none';\n",
              "\n",
              "      async function convertToInteractive(key) {\n",
              "        const element = document.querySelector('#df-73f4c24b-3e89-4762-bf3e-b1b0ee716f5c');\n",
              "        const dataTable =\n",
              "          await google.colab.kernel.invokeFunction('convertToInteractive',\n",
              "                                                    [key], {});\n",
              "        if (!dataTable) return;\n",
              "\n",
              "        const docLinkHtml = 'Like what you see? Visit the ' +\n",
              "          '<a target=\"_blank\" href=https://colab.research.google.com/notebooks/data_table.ipynb>data table notebook</a>'\n",
              "          + ' to learn more about interactive tables.';\n",
              "        element.innerHTML = '';\n",
              "        dataTable['output_type'] = 'display_data';\n",
              "        await google.colab.output.renderOutput(dataTable, element);\n",
              "        const docLink = document.createElement('div');\n",
              "        docLink.innerHTML = docLinkHtml;\n",
              "        element.appendChild(docLink);\n",
              "      }\n",
              "    </script>\n",
              "  </div>\n",
              "\n",
              "\n",
              "<div id=\"df-65f37ebf-d4e9-4098-a4ed-8a5c88f657a3\">\n",
              "  <button class=\"colab-df-quickchart\" onclick=\"quickchart('df-65f37ebf-d4e9-4098-a4ed-8a5c88f657a3')\"\n",
              "            title=\"Suggest charts\"\n",
              "            style=\"display:none;\">\n",
              "\n",
              "<svg xmlns=\"http://www.w3.org/2000/svg\" height=\"24px\"viewBox=\"0 0 24 24\"\n",
              "     width=\"24px\">\n",
              "    <g>\n",
              "        <path d=\"M19 3H5c-1.1 0-2 .9-2 2v14c0 1.1.9 2 2 2h14c1.1 0 2-.9 2-2V5c0-1.1-.9-2-2-2zM9 17H7v-7h2v7zm4 0h-2V7h2v10zm4 0h-2v-4h2v4z\"/>\n",
              "    </g>\n",
              "</svg>\n",
              "  </button>\n",
              "\n",
              "<style>\n",
              "  .colab-df-quickchart {\n",
              "      --bg-color: #E8F0FE;\n",
              "      --fill-color: #1967D2;\n",
              "      --hover-bg-color: #E2EBFA;\n",
              "      --hover-fill-color: #174EA6;\n",
              "      --disabled-fill-color: #AAA;\n",
              "      --disabled-bg-color: #DDD;\n",
              "  }\n",
              "\n",
              "  [theme=dark] .colab-df-quickchart {\n",
              "      --bg-color: #3B4455;\n",
              "      --fill-color: #D2E3FC;\n",
              "      --hover-bg-color: #434B5C;\n",
              "      --hover-fill-color: #FFFFFF;\n",
              "      --disabled-bg-color: #3B4455;\n",
              "      --disabled-fill-color: #666;\n",
              "  }\n",
              "\n",
              "  .colab-df-quickchart {\n",
              "    background-color: var(--bg-color);\n",
              "    border: none;\n",
              "    border-radius: 50%;\n",
              "    cursor: pointer;\n",
              "    display: none;\n",
              "    fill: var(--fill-color);\n",
              "    height: 32px;\n",
              "    padding: 0;\n",
              "    width: 32px;\n",
              "  }\n",
              "\n",
              "  .colab-df-quickchart:hover {\n",
              "    background-color: var(--hover-bg-color);\n",
              "    box-shadow: 0 1px 2px rgba(60, 64, 67, 0.3), 0 1px 3px 1px rgba(60, 64, 67, 0.15);\n",
              "    fill: var(--button-hover-fill-color);\n",
              "  }\n",
              "\n",
              "  .colab-df-quickchart-complete:disabled,\n",
              "  .colab-df-quickchart-complete:disabled:hover {\n",
              "    background-color: var(--disabled-bg-color);\n",
              "    fill: var(--disabled-fill-color);\n",
              "    box-shadow: none;\n",
              "  }\n",
              "\n",
              "  .colab-df-spinner {\n",
              "    border: 2px solid var(--fill-color);\n",
              "    border-color: transparent;\n",
              "    border-bottom-color: var(--fill-color);\n",
              "    animation:\n",
              "      spin 1s steps(1) infinite;\n",
              "  }\n",
              "\n",
              "  @keyframes spin {\n",
              "    0% {\n",
              "      border-color: transparent;\n",
              "      border-bottom-color: var(--fill-color);\n",
              "      border-left-color: var(--fill-color);\n",
              "    }\n",
              "    20% {\n",
              "      border-color: transparent;\n",
              "      border-left-color: var(--fill-color);\n",
              "      border-top-color: var(--fill-color);\n",
              "    }\n",
              "    30% {\n",
              "      border-color: transparent;\n",
              "      border-left-color: var(--fill-color);\n",
              "      border-top-color: var(--fill-color);\n",
              "      border-right-color: var(--fill-color);\n",
              "    }\n",
              "    40% {\n",
              "      border-color: transparent;\n",
              "      border-right-color: var(--fill-color);\n",
              "      border-top-color: var(--fill-color);\n",
              "    }\n",
              "    60% {\n",
              "      border-color: transparent;\n",
              "      border-right-color: var(--fill-color);\n",
              "    }\n",
              "    80% {\n",
              "      border-color: transparent;\n",
              "      border-right-color: var(--fill-color);\n",
              "      border-bottom-color: var(--fill-color);\n",
              "    }\n",
              "    90% {\n",
              "      border-color: transparent;\n",
              "      border-bottom-color: var(--fill-color);\n",
              "    }\n",
              "  }\n",
              "</style>\n",
              "\n",
              "  <script>\n",
              "    async function quickchart(key) {\n",
              "      const quickchartButtonEl =\n",
              "        document.querySelector('#' + key + ' button');\n",
              "      quickchartButtonEl.disabled = true;  // To prevent multiple clicks.\n",
              "      quickchartButtonEl.classList.add('colab-df-spinner');\n",
              "      try {\n",
              "        const charts = await google.colab.kernel.invokeFunction(\n",
              "            'suggestCharts', [key], {});\n",
              "      } catch (error) {\n",
              "        console.error('Error during call to suggestCharts:', error);\n",
              "      }\n",
              "      quickchartButtonEl.classList.remove('colab-df-spinner');\n",
              "      quickchartButtonEl.classList.add('colab-df-quickchart-complete');\n",
              "    }\n",
              "    (() => {\n",
              "      let quickchartButtonEl =\n",
              "        document.querySelector('#df-65f37ebf-d4e9-4098-a4ed-8a5c88f657a3 button');\n",
              "      quickchartButtonEl.style.display =\n",
              "        google.colab.kernel.accessAllowed ? 'block' : 'none';\n",
              "    })();\n",
              "  </script>\n",
              "</div>\n",
              "    </div>\n",
              "  </div>\n"
            ]
          },
          "metadata": {},
          "execution_count": 32
        }
      ]
    },
    {
      "cell_type": "code",
      "source": [
        "#Creating Individual Feature Importance table by sorting on specific Analyst Update-type column and selecting top 5 Words\n",
        "AnalystUpdate_fi = df_feats_impts[[\"Word\",\"Analyst Update\"]].sort_values(by = \"Analyst Update\", ascending = False).head()\n",
        "FedCentralBanksUpdate_fi = df_feats_impts[[\"Word\",\"Fed | Central Banks\"]].sort_values(by = \"Fed | Central Banks\", ascending = False).head()\n",
        "CompanyProductNews_fi = df_feats_impts[[\"Word\",\"Company | Product News\"]].sort_values(by = \"Company | Product News\", ascending = False).head()\n",
        "TreasuriesCorporateDebt_fi = df_feats_impts[[\"Word\",\"Treasuries | Corporate Debt\"]].sort_values(by = \"Treasuries | Corporate Debt\", ascending = False).head()\n",
        "Dividend_fi = df_feats_impts[[\"Word\",\"Dividend\"]].sort_values(by = \"Dividend\", ascending = False).head()\n",
        "Earnings_fi = df_feats_impts[[\"Word\",\"Earnings\"]].sort_values(by = \"Earnings\", ascending = False).head()\n",
        "\n",
        "#Plotting top 5 Words based on coefficient values from the LR model\n",
        "fig,(ax1, ax2) =  plt.subplots(2,3,figsize=(10,5))\n",
        "sns.set_style(\"darkgrid\")\n",
        "sns.barplot(x = \"Analyst Update\", y = \"Word\", ax = ax1[0], data = AnalystUpdate_fi)\n",
        "sns.barplot(x = \"Fed | Central Banks\", y = \"Word\", ax = ax1[1], data = FedCentralBanksUpdate_fi)\n",
        "sns.barplot(x = \"Company | Product News\", y = \"Word\", ax = ax1[2], data = CompanyProductNews_fi)\n",
        "sns.barplot(x = \"Treasuries | Corporate Debt\", y = \"Word\", ax = ax2[0], data = TreasuriesCorporateDebt_fi)\n",
        "sns.barplot(x = \"Dividend\", y = \"Word\", ax = ax2[1], data = Dividend_fi)\n",
        "sns.barplot(x = \"Earnings\", y = \"Word\", ax = ax2[2], data = Earnings_fi)\n",
        "plt.suptitle(\"Feature Importance\")\n",
        "fig.tight_layout(rect=[0, 0.03, 1, 0.95])\n",
        "plt.show()"
      ],
      "metadata": {
        "colab": {
          "base_uri": "https://localhost:8080/",
          "height": 497
        },
        "id": "IhT26cIq5El3",
        "outputId": "635926d3-34ed-4d57-9ada-f3ed1b881e84"
      },
      "execution_count": null,
      "outputs": [
        {
          "output_type": "display_data",
          "data": {
            "text/plain": [
              "<Figure size 1000x500 with 6 Axes>"
            ],
            "image/png": "[encoded data removed]"
          },
          "metadata": {}
        }
      ]
    }
  ]
}